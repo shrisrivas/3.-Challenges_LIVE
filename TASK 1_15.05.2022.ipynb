{
 "cells": [
  {
   "cell_type": "raw",
   "id": "f248cdb3",
   "metadata": {},
   "source": [
    "s = \"this is My First Python programming class and i am learNING python string and its function\"\n",
    "1 . Try to extract data from index one to index 300 with a jump of 3 \n",
    "2. Try to reverse a string without using reverse function \n",
    "3. Try to split a string after conversion of entire string in uppercase \n",
    "4. try to convert the whole string into lower case \n",
    "5 . Try to capitalize the whole string \n",
    "6 . Write a diference between isalnum() and isalpha()\n",
    "7. Try to give an example of expand tab\n",
    "8 . Give an example of strip , lstrip and rstrip \n",
    "9.  Replace a string charecter by another charector by taking your own example \n",
    "\"sudhanshu\"\n",
    "10 . Try  to give a defination of string center function with and exmple \n",
    "11 . Write your own definition of compiler and interpretor without copy paste form internet in your own language\n",
    "12 . Python is a interpreted of compiled language give a clear ans with your understanding \n",
    "13 . Try to write a usecase of python with your understanding .\n",
    "\n",
    "\n",
    "you have to send a jupyter notebook to shivan@ineuron.ai before next saturday class 21st of may ."
   ]
  },
  {
   "cell_type": "code",
   "execution_count": 1,
   "id": "6f754577",
   "metadata": {},
   "outputs": [],
   "source": [
    "s = \"this is My First Python programming class and i am learNING python string and its function\""
   ]
  },
  {
   "cell_type": "markdown",
   "id": "f451b0f1",
   "metadata": {},
   "source": [
    "## 1 . Try to extract data from index one to index 300 with a jump of 3 "
   ]
  },
  {
   "cell_type": "code",
   "execution_count": 3,
   "id": "69e22a8d",
   "metadata": {},
   "outputs": [
    {
     "data": {
      "text/plain": [
       "'h   r tnrrmglsnimeNGyosi dtfco'"
      ]
     },
     "execution_count": 3,
     "metadata": {},
     "output_type": "execute_result"
    }
   ],
   "source": [
    "s[1:301:3]"
   ]
  },
  {
   "cell_type": "markdown",
   "id": "c0370e03",
   "metadata": {},
   "source": [
    "## 2. Try to reverse a string without using reverse function "
   ]
  },
  {
   "cell_type": "code",
   "execution_count": 4,
   "id": "8927a966",
   "metadata": {},
   "outputs": [
    {
     "data": {
      "text/plain": [
       "'noitcnuf sti dna gnirts nohtyp GNINrael ma i dna ssalc gnimmargorp nohtyP tsriF yM si siht'"
      ]
     },
     "execution_count": 4,
     "metadata": {},
     "output_type": "execute_result"
    }
   ],
   "source": [
    "s[::-1]"
   ]
  },
  {
   "cell_type": "markdown",
   "id": "3ca49bbe",
   "metadata": {},
   "source": [
    "## 3. Try to split a string after conversion of entire string in uppercase "
   ]
  },
  {
   "cell_type": "code",
   "execution_count": 6,
   "id": "0bd70a93",
   "metadata": {},
   "outputs": [],
   "source": [
    "k=s.upper()"
   ]
  },
  {
   "cell_type": "code",
   "execution_count": 7,
   "id": "dc51d792",
   "metadata": {},
   "outputs": [
    {
     "data": {
      "text/plain": [
       "['THIS',\n",
       " 'IS',\n",
       " 'MY',\n",
       " 'FIRST',\n",
       " 'PYTHON',\n",
       " 'PROGRAMMING',\n",
       " 'CLASS',\n",
       " 'AND',\n",
       " 'I',\n",
       " 'AM',\n",
       " 'LEARNING',\n",
       " 'PYTHON',\n",
       " 'STRING',\n",
       " 'AND',\n",
       " 'ITS',\n",
       " 'FUNCTION']"
      ]
     },
     "execution_count": 7,
     "metadata": {},
     "output_type": "execute_result"
    }
   ],
   "source": [
    "k.split()"
   ]
  },
  {
   "cell_type": "markdown",
   "id": "1533e1c2",
   "metadata": {},
   "source": [
    "## 4. try to convert the whole string into lower case"
   ]
  },
  {
   "cell_type": "code",
   "execution_count": 8,
   "id": "f9cabf9d",
   "metadata": {},
   "outputs": [
    {
     "data": {
      "text/plain": [
       "'this is my first python programming class and i am learning python string and its function'"
      ]
     },
     "execution_count": 8,
     "metadata": {},
     "output_type": "execute_result"
    }
   ],
   "source": [
    "s.lower()"
   ]
  },
  {
   "cell_type": "markdown",
   "id": "0deecb2e",
   "metadata": {},
   "source": [
    "## 5 . Try to capitalize the whole string "
   ]
  },
  {
   "cell_type": "code",
   "execution_count": 9,
   "id": "aca5168a",
   "metadata": {},
   "outputs": [
    {
     "data": {
      "text/plain": [
       "'This is my first python programming class and i am learning python string and its function'"
      ]
     },
     "execution_count": 9,
     "metadata": {},
     "output_type": "execute_result"
    }
   ],
   "source": [
    "s.capitalize()"
   ]
  },
  {
   "cell_type": "markdown",
   "id": "3a7af2ec",
   "metadata": {},
   "source": [
    "## 6 . Write a diference between isalnum() and isalpha()"
   ]
  },
  {
   "cell_type": "code",
   "execution_count": 13,
   "id": "e15de4c5",
   "metadata": {},
   "outputs": [],
   "source": [
    "j='hi56'"
   ]
  },
  {
   "cell_type": "code",
   "execution_count": 14,
   "id": "cf02cf64",
   "metadata": {},
   "outputs": [
    {
     "data": {
      "text/plain": [
       "True"
      ]
     },
     "execution_count": 14,
     "metadata": {},
     "output_type": "execute_result"
    }
   ],
   "source": [
    "j.isalnum()"
   ]
  },
  {
   "cell_type": "code",
   "execution_count": 15,
   "id": "9847c250",
   "metadata": {},
   "outputs": [
    {
     "data": {
      "text/plain": [
       "False"
      ]
     },
     "execution_count": 15,
     "metadata": {},
     "output_type": "execute_result"
    }
   ],
   "source": [
    "j.isalpha()"
   ]
  },
  {
   "cell_type": "code",
   "execution_count": 16,
   "id": "8f41293d",
   "metadata": {},
   "outputs": [],
   "source": [
    "k=\"hi\""
   ]
  },
  {
   "cell_type": "code",
   "execution_count": 17,
   "id": "e3c96454",
   "metadata": {},
   "outputs": [
    {
     "data": {
      "text/plain": [
       "True"
      ]
     },
     "execution_count": 17,
     "metadata": {},
     "output_type": "execute_result"
    }
   ],
   "source": [
    "k.isalpha()"
   ]
  },
  {
   "cell_type": "code",
   "execution_count": null,
   "id": "1914aaf9",
   "metadata": {},
   "outputs": [],
   "source": [
    "isalnum() is true when there is either alpha or numeric in string.\n",
    "while isalpha() is true when then is only alpha in string."
   ]
  },
  {
   "cell_type": "markdown",
   "id": "2bbdc2fd",
   "metadata": {},
   "source": [
    "## 7. Try to give an example of expand tab"
   ]
  },
  {
   "cell_type": "code",
   "execution_count": 25,
   "id": "cdefc6cf",
   "metadata": {},
   "outputs": [],
   "source": [
    "i=\"shri\\tfti\""
   ]
  },
  {
   "cell_type": "code",
   "execution_count": 26,
   "id": "de71103b",
   "metadata": {},
   "outputs": [
    {
     "data": {
      "text/plain": [
       "'shri\\tfti'"
      ]
     },
     "execution_count": 26,
     "metadata": {},
     "output_type": "execute_result"
    }
   ],
   "source": [
    "i"
   ]
  },
  {
   "cell_type": "code",
   "execution_count": 27,
   "id": "153aab66",
   "metadata": {},
   "outputs": [
    {
     "data": {
      "text/plain": [
       "'shri    fti'"
      ]
     },
     "execution_count": 27,
     "metadata": {},
     "output_type": "execute_result"
    }
   ],
   "source": [
    "i.expandtabs()"
   ]
  },
  {
   "cell_type": "markdown",
   "id": "dbdc3f25",
   "metadata": {},
   "source": [
    "## 8 . Give an example of strip , lstrip and rstrip "
   ]
  },
  {
   "cell_type": "code",
   "execution_count": 28,
   "id": "f46aeb84",
   "metadata": {},
   "outputs": [],
   "source": [
    "q=\"     shristi \""
   ]
  },
  {
   "cell_type": "code",
   "execution_count": 29,
   "id": "c83e0220",
   "metadata": {},
   "outputs": [
    {
     "data": {
      "text/plain": [
       "'     shristi '"
      ]
     },
     "execution_count": 29,
     "metadata": {},
     "output_type": "execute_result"
    }
   ],
   "source": [
    "q\n"
   ]
  },
  {
   "cell_type": "code",
   "execution_count": 30,
   "id": "fd6584ef",
   "metadata": {},
   "outputs": [
    {
     "data": {
      "text/plain": [
       "'shristi'"
      ]
     },
     "execution_count": 30,
     "metadata": {},
     "output_type": "execute_result"
    }
   ],
   "source": [
    "q.strip()"
   ]
  },
  {
   "cell_type": "code",
   "execution_count": 31,
   "id": "280d2c00",
   "metadata": {},
   "outputs": [
    {
     "data": {
      "text/plain": [
       "'shristi '"
      ]
     },
     "execution_count": 31,
     "metadata": {},
     "output_type": "execute_result"
    }
   ],
   "source": [
    "q.lstrip()"
   ]
  },
  {
   "cell_type": "code",
   "execution_count": 32,
   "id": "6c70a019",
   "metadata": {},
   "outputs": [
    {
     "data": {
      "text/plain": [
       "'     shristi'"
      ]
     },
     "execution_count": 32,
     "metadata": {},
     "output_type": "execute_result"
    }
   ],
   "source": [
    "q.rstrip()\n"
   ]
  },
  {
   "cell_type": "markdown",
   "id": "685187e8",
   "metadata": {},
   "source": [
    " ## 9. Replace a string charecter by another charector by taking your own example \n",
    "\"sudhanshu\""
   ]
  },
  {
   "cell_type": "code",
   "execution_count": 35,
   "id": "1e12ca34",
   "metadata": {},
   "outputs": [],
   "source": [
    "u='sudhanshu'"
   ]
  },
  {
   "cell_type": "code",
   "execution_count": 36,
   "id": "95087de3",
   "metadata": {},
   "outputs": [
    {
     "data": {
      "text/plain": [
       "'sudhanshu'"
      ]
     },
     "execution_count": 36,
     "metadata": {},
     "output_type": "execute_result"
    }
   ],
   "source": [
    "u\n"
   ]
  },
  {
   "cell_type": "code",
   "execution_count": 38,
   "id": "e59152d9",
   "metadata": {},
   "outputs": [
    {
     "data": {
      "text/plain": [
       "'sadhansha'"
      ]
     },
     "execution_count": 38,
     "metadata": {},
     "output_type": "execute_result"
    }
   ],
   "source": [
    "u.replace('u','a')\n"
   ]
  },
  {
   "cell_type": "markdown",
   "id": "f6c92b6b",
   "metadata": {},
   "source": [
    "## 10. Try  to give a defination of string center function with and exmple "
   ]
  },
  {
   "cell_type": "code",
   "execution_count": 40,
   "id": "0592ae74",
   "metadata": {},
   "outputs": [
    {
     "data": {
      "text/plain": [
       "'*****sudhanshu******'"
      ]
     },
     "execution_count": 40,
     "metadata": {},
     "output_type": "execute_result"
    }
   ],
   "source": [
    "u.center(20,\"*\")"
   ]
  },
  {
   "cell_type": "raw",
   "id": "e12ebb72",
   "metadata": {},
   "source": [
    "def:  u.center(width, fillchar=' ', /)\n",
    "\n",
    "Return a centered string of length width.\n",
    "\n",
    "Padding is done using the specified fill character (default is a space)."
   ]
  },
  {
   "cell_type": "markdown",
   "id": "f6eb16a1",
   "metadata": {},
   "source": [
    "## 11 . Write your own definition of compiler and interpretor without copy paste form internet in your own language."
   ]
  },
  {
   "cell_type": "markdown",
   "id": "b5211b22",
   "metadata": {},
   "source": [
    "In compiler, complete code is complied in complier while in interpreter code is complied line by line."
   ]
  },
  {
   "cell_type": "markdown",
   "id": "afbbd901",
   "metadata": {},
   "source": [
    "## 12 . Python is a interpreted of compiled language give a clear ans with your understanding "
   ]
  },
  {
   "cell_type": "raw",
   "id": "c561f3c9",
   "metadata": {},
   "source": [
    "Python is interpreter. "
   ]
  },
  {
   "cell_type": "markdown",
   "id": "dea7062c",
   "metadata": {},
   "source": [
    "## 13 . Try to write a usecase of python with your understanding ."
   ]
  },
  {
   "cell_type": "markdown",
   "id": "a5699a24",
   "metadata": {},
   "source": [
    "Because of ease of use and different libraries support in python, python is choosen over other language. Now python is used in almost every field like data science project, web scrapping, Application development, website design,Gaming, Business Development etc."
   ]
  }
 ],
 "metadata": {
  "kernelspec": {
   "display_name": "Python 3 (ipykernel)",
   "language": "python",
   "name": "python3"
  },
  "language_info": {
   "codemirror_mode": {
    "name": "ipython",
    "version": 3
   },
   "file_extension": ".py",
   "mimetype": "text/x-python",
   "name": "python",
   "nbconvert_exporter": "python",
   "pygments_lexer": "ipython3",
   "version": "3.9.7"
  }
 },
 "nbformat": 4,
 "nbformat_minor": 5
}
