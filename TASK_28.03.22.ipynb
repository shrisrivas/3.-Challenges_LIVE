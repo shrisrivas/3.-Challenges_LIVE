{
 "cells": [
  {
   "cell_type": "code",
   "execution_count": null,
   "id": "f314f890",
   "metadata": {},
   "outputs": [],
   "source": [
    "q1 :\n",
    "ineruon \n",
    "ineruon ineruon \n",
    "ineruon ineruon ineruon\n",
    "ineruon ineruon ineruon ineruon\n",
    "\n",
    "q2 - \n",
    "\n",
    "          ineruon\n",
    "    ineruon      ineruon\n",
    "ineruon\t\tineruon \tineruon\n",
    "\tineruon\t\t ineruon\n",
    "\t\t  ineruon\n",
    "\n",
    "l = [[1,2,3,4] , (2,3,4,5,6) , (3,4,5,6,7) , set([23,4,5,45,4,4,5,45,45,4,5]) , {'k1' :\"sudh\" , \"k2\" : \"ineuron\",\"k3\":\n",
    "            \"kumar\" , 3:6 , 7:8} , [\"ineuron\" , \"data science \"]]\n",
    "\n",
    "q3 : Try to extract all the list entity \n",
    "q4 : Try to extract all the dict enteties\n",
    "q5 : Try to extract all the tuples entities\n",
    "q6 : Try to extract all the numerical data it may b a part of dict key and values \n",
    "q7 : Try to give summation of all the numeric data \n",
    "q8 : Try to filter out all the odd values out all numeric data which is a part of a list \n",
    "q9 : Try to extract \"ineruon\" out of this data\n",
    "q10 :Try to find out a number of occurances of all the data \n",
    "q11 : Try to find out number of keys in dict element\n",
    "q12 : Try to filter out all the string data \n",
    "q13 : Try to Find  out alphanum in data\n",
    "q14 : Try to find out multiplication of all numeric value in  the individual collection inside dataset \n",
    "q15 : Try to unwrape all the collection inside collection and create a flat list \n",
    "    \n",
    "    \n",
    "before 29th may 2022 3 PM IST you have to send an answer to me or to shivan \n",
    "sudhanshu@ineuron.ai\n",
    "shivan@ineuron.ai"
   ]
  },
  {
   "cell_type": "code",
   "execution_count": 8,
   "id": "6a4ca7b5",
   "metadata": {},
   "outputs": [
    {
     "name": "stdout",
     "output_type": "stream",
     "text": [
      "ineuron \n",
      "ineuron ineuron \n",
      "ineuron ineuron ineuron \n",
      "ineuron ineuron ineuron ineuron \n"
     ]
    }
   ],
   "source": [
    "\n",
    "for i in range(4):\n",
    "    print(\"ineuron \"*(i+1))"
   ]
  },
  {
   "cell_type": "code",
   "execution_count": 16,
   "id": "78697e79",
   "metadata": {},
   "outputs": [
    {
     "name": "stdout",
     "output_type": "stream",
     "text": [
      "                \n",
      "             ineuron \n",
      "         ineuron  ineuron \n",
      "     ineuron  ineuron  ineuron \n",
      " ineuron  ineuron  ineuron  ineuron \n",
      "     ineuron  ineuron  ineuron \n",
      "         ineuron  ineuron \n",
      "             ineuron \n"
     ]
    }
   ],
   "source": [
    "n=4\n",
    "for i in range(n):\n",
    "    print(\"    \"*(n-i)+\" ineuron \"*i)\n",
    "for i in range(n):\n",
    "    print(\"    \"*i + \" ineuron \"*(n-i))"
   ]
  },
  {
   "cell_type": "code",
   "execution_count": 54,
   "id": "6504fcee",
   "metadata": {},
   "outputs": [],
   "source": [
    "l = [[1,2,3,4] , (2,3,4,5,6) , (3,4,5,6,7) , set([23,4,5,45,4,4,5,45,45,4,5]) ,7, {'k1' :\"sudh\" , \"k2\" : \"ineuron\",\"k3\":\n",
    "            \"kumar\" , 3:6 , 7:8} , [\"ineuron\" , \"data science \"]]"
   ]
  },
  {
   "cell_type": "code",
   "execution_count": 55,
   "id": "d2f4b9c8",
   "metadata": {},
   "outputs": [
    {
     "name": "stdout",
     "output_type": "stream",
     "text": [
      "[1, 2, 3, 4]\n",
      "['ineuron', 'data science ']\n"
     ]
    }
   ],
   "source": [
    "for i in l:\n",
    "    if type(i)==list:\n",
    "        print(i)"
   ]
  },
  {
   "cell_type": "code",
   "execution_count": 56,
   "id": "7ceafe4c",
   "metadata": {},
   "outputs": [
    {
     "name": "stdout",
     "output_type": "stream",
     "text": [
      "{'k1': 'sudh', 'k2': 'ineuron', 'k3': 'kumar', 3: 6, 7: 8}\n"
     ]
    }
   ],
   "source": [
    "for i in l:\n",
    "    if type(i)==dict:\n",
    "        print(i)"
   ]
  },
  {
   "cell_type": "code",
   "execution_count": 57,
   "id": "566378dc",
   "metadata": {},
   "outputs": [
    {
     "name": "stdout",
     "output_type": "stream",
     "text": [
      "(2, 3, 4, 5, 6)\n",
      "(3, 4, 5, 6, 7)\n"
     ]
    }
   ],
   "source": [
    "for i in l:\n",
    "    if type(i)==tuple:\n",
    "        print(i)"
   ]
  },
  {
   "cell_type": "code",
   "execution_count": 58,
   "id": "06e5c6c8",
   "metadata": {},
   "outputs": [
    {
     "name": "stdout",
     "output_type": "stream",
     "text": [
      "{'k1': 'sudh', 'k2': 'ineuron', 'k3': 'kumar', 3: 6, 7: 8}\n",
      "3 6\n",
      "7 8\n"
     ]
    }
   ],
   "source": [
    "for i in l:\n",
    "    if type(i)==dict:\n",
    "        print(i)\n",
    "        for j,k in i.items():\n",
    "            if type(j)==int or type(k)==int:\n",
    "                print(j,k)"
   ]
  },
  {
   "cell_type": "code",
   "execution_count": 80,
   "id": "610df6b9",
   "metadata": {},
   "outputs": [
    {
     "name": "stdout",
     "output_type": "stream",
     "text": [
      "{'k1': 'sudh', 'k2': 'ineuron', 'k3': 'kumar', 3: 6, 7: 8}\n",
      "('k1', 'sudh')\n",
      "k1\n",
      "sudh\n",
      "('k2', 'ineuron')\n",
      "k2\n",
      "ineuron\n",
      "('k3', 'kumar')\n",
      "k3\n",
      "kumar\n",
      "(3, 6)\n",
      "3\n",
      "6\n",
      "(7, 8)\n",
      "7\n",
      "8\n"
     ]
    }
   ],
   "source": [
    "for i in l:\n",
    "    if type(i)==dict:\n",
    "        print(i)\n",
    "        for j in i.items():\n",
    "            print(j)\n",
    "            for k in j:\n",
    "                print(k)"
   ]
  },
  {
   "cell_type": "code",
   "execution_count": 78,
   "id": "65d7285b",
   "metadata": {},
   "outputs": [
    {
     "name": "stdout",
     "output_type": "stream",
     "text": [
      "1\n",
      "2\n",
      "3\n",
      "4\n",
      "2\n",
      "3\n",
      "4\n",
      "5\n",
      "6\n",
      "3\n",
      "4\n",
      "5\n",
      "6\n",
      "7\n",
      "45\n",
      "4\n",
      "5\n",
      "23\n",
      "('k1', 'sudh')\n",
      "('k2', 'ineuron')\n",
      "('k3', 'kumar')\n",
      "(3, 6)\n",
      "3\n",
      "6\n",
      "(7, 8)\n",
      "7\n",
      "8\n"
     ]
    }
   ],
   "source": [
    "for i in l:\n",
    "    if type(i)==str or type(i)==list or type(i)==tuple or type(i)==set :\n",
    "        for j in i:\n",
    "            if type(j)==int:\n",
    "                print (j)\n",
    "    if type(i)==dict:\n",
    "        for j in i.items():\n",
    "            print(j)\n",
    "            for k in j:\n",
    "                if type(k)==int:\n",
    "                    print(k)\n",
    "  \n",
    "                "
   ]
  },
  {
   "cell_type": "code",
   "execution_count": 161,
   "id": "b4ef1eb8",
   "metadata": {},
   "outputs": [
    {
     "name": "stdout",
     "output_type": "stream",
     "text": [
      "1\n",
      "2\n",
      "3\n",
      "4\n",
      "2\n",
      "3\n",
      "4\n",
      "5\n",
      "6\n",
      "3\n",
      "4\n",
      "5\n",
      "6\n",
      "7\n",
      "45\n",
      "4\n",
      "5\n",
      "23\n",
      "('k1', 'sudh')\n",
      "('k2', 'ineuron')\n",
      "('k3', 'kumar')\n",
      "(3, 6)\n",
      "(7, 8)\n"
     ]
    }
   ],
   "source": [
    "l1=[]\n",
    "for i in l:\n",
    "    if type(i)==str or type(i)==list or type(i)==tuple or type(i)==set :\n",
    "        for j in i:\n",
    "            if type(j)==int:\n",
    "                print (j)\n",
    "                l1.append(j)\n",
    "    if type(i)==dict:\n",
    "        for j in i.items():\n",
    "            print(j)\n",
    "            for k in j:\n",
    "                if type(k)==int:\n",
    "                    \n",
    "                    l1.append(k)"
   ]
  },
  {
   "cell_type": "code",
   "execution_count": 162,
   "id": "37915310",
   "metadata": {},
   "outputs": [
    {
     "data": {
      "text/plain": [
       "[1, 2, 3, 4, 2, 3, 4, 5, 6, 3, 4, 5, 6, 7, 45, 4, 5, 23, 3, 6, 7, 8]"
      ]
     },
     "execution_count": 162,
     "metadata": {},
     "output_type": "execute_result"
    }
   ],
   "source": [
    "l1"
   ]
  },
  {
   "cell_type": "code",
   "execution_count": 163,
   "id": "8545f4b4",
   "metadata": {},
   "outputs": [
    {
     "name": "stdout",
     "output_type": "stream",
     "text": [
      "[1, 2, 3, 4]\n",
      "(2, 3, 4, 5, 6)\n",
      "(3, 4, 5, 6, 7)\n",
      "{45, 4, 5, 23}\n",
      "7\n",
      "{'k1': 'sudh', 'k2': 'ineuron', 'k3': 'kumar', 3: 6, 7: 8}\n",
      "['ineuron', 'data science ']\n"
     ]
    }
   ],
   "source": [
    "for i in l:\n",
    "    print(i)"
   ]
  },
  {
   "cell_type": "code",
   "execution_count": 164,
   "id": "6648cdbb",
   "metadata": {},
   "outputs": [
    {
     "name": "stdout",
     "output_type": "stream",
     "text": [
      "156\n"
     ]
    }
   ],
   "source": [
    "sum=0\n",
    "for i in l1:\n",
    "    sum=sum+i\n",
    "print(sum)"
   ]
  },
  {
   "cell_type": "code",
   "execution_count": 160,
   "id": "ae36f187",
   "metadata": {},
   "outputs": [
    {
     "data": {
      "text/plain": [
       "[1,\n",
       " 2,\n",
       " 3,\n",
       " 4,\n",
       " 2,\n",
       " 3,\n",
       " 4,\n",
       " 5,\n",
       " 6,\n",
       " 3,\n",
       " 4,\n",
       " 5,\n",
       " 6,\n",
       " 7,\n",
       " 45,\n",
       " 4,\n",
       " 5,\n",
       " 23,\n",
       " 'k1',\n",
       " 'sudh',\n",
       " 'k2',\n",
       " 'ineuron',\n",
       " 'k3',\n",
       " 'kumar',\n",
       " 3,\n",
       " 6,\n",
       " 7,\n",
       " 8,\n",
       " 'ineuron',\n",
       " 'data science ']"
      ]
     },
     "execution_count": 160,
     "metadata": {},
     "output_type": "execute_result"
    }
   ],
   "source": [
    "l1"
   ]
  },
  {
   "cell_type": "code",
   "execution_count": 166,
   "id": "6381a87d",
   "metadata": {},
   "outputs": [
    {
     "name": "stdout",
     "output_type": "stream",
     "text": [
      "908605071360000\n"
     ]
    }
   ],
   "source": [
    "mult=1\n",
    "for i in l1:\n",
    "    mult=mult*i\n",
    "print(mult)"
   ]
  },
  {
   "cell_type": "code",
   "execution_count": 111,
   "id": "b6fb2ad8",
   "metadata": {},
   "outputs": [
    {
     "name": "stdout",
     "output_type": "stream",
     "text": [
      "132\n",
      "0\n"
     ]
    }
   ],
   "source": [
    "sum=sum2=0\n",
    "\n",
    "for i in l:\n",
    "    if type(i)==list or type(i)==tuple or type(i)==str or type(i)==set:\n",
    "        for j in i:\n",
    "            if type(j)==int:\n",
    "                sum=sum+j\n",
    "                \n",
    "for i in l:\n",
    "    if type(i)==dict:\n",
    "        for k in i.items():\n",
    "            for m in k:\n",
    "                if type(k)==int:\n",
    "                    sum2=sum2+k\n",
    "print(sum)\n",
    "print(sum2)"
   ]
  },
  {
   "cell_type": "code",
   "execution_count": 113,
   "id": "13c28b7b",
   "metadata": {},
   "outputs": [
    {
     "name": "stdout",
     "output_type": "stream",
     "text": [
      "{'k1': 'sudh', 'k2': 'ineuron', 'k3': 'kumar', 3: 6, 7: 8}\n",
      "('k1', 'sudh')\n",
      "k1\n"
     ]
    },
    {
     "ename": "TypeError",
     "evalue": "unsupported operand type(s) for +: 'int' and 'str'",
     "output_type": "error",
     "traceback": [
      "\u001b[1;31m---------------------------------------------------------------------------\u001b[0m",
      "\u001b[1;31mTypeError\u001b[0m                                 Traceback (most recent call last)",
      "\u001b[1;32m~\\AppData\\Local\\Temp/ipykernel_3032/2970074773.py\u001b[0m in \u001b[0;36m<module>\u001b[1;34m\u001b[0m\n\u001b[0;32m     14\u001b[0m             \u001b[1;32mfor\u001b[0m \u001b[0mk\u001b[0m \u001b[1;32min\u001b[0m \u001b[0mj\u001b[0m\u001b[1;33m:\u001b[0m\u001b[1;33m\u001b[0m\u001b[1;33m\u001b[0m\u001b[0m\n\u001b[0;32m     15\u001b[0m                 \u001b[0mprint\u001b[0m\u001b[1;33m(\u001b[0m\u001b[0mk\u001b[0m\u001b[1;33m)\u001b[0m\u001b[1;33m\u001b[0m\u001b[1;33m\u001b[0m\u001b[0m\n\u001b[1;32m---> 16\u001b[1;33m                 \u001b[0msum2\u001b[0m\u001b[1;33m=\u001b[0m\u001b[0msum2\u001b[0m\u001b[1;33m+\u001b[0m\u001b[0mk\u001b[0m\u001b[1;33m\u001b[0m\u001b[1;33m\u001b[0m\u001b[0m\n\u001b[0m\u001b[0;32m     17\u001b[0m \u001b[1;33m\u001b[0m\u001b[0m\n\u001b[0;32m     18\u001b[0m \u001b[0mprint\u001b[0m\u001b[1;33m(\u001b[0m\u001b[0msum\u001b[0m\u001b[1;33m)\u001b[0m\u001b[1;33m\u001b[0m\u001b[1;33m\u001b[0m\u001b[0m\n",
      "\u001b[1;31mTypeError\u001b[0m: unsupported operand type(s) for +: 'int' and 'str'"
     ]
    }
   ],
   "source": [
    "sum=sum2=0\n",
    "\n",
    "for i in l:\n",
    "    if type(i)==list or type(i)==tuple or type(i)==str or type(i)==set:\n",
    "        for j in i:\n",
    "            if type(j)==int:\n",
    "                sum=sum+j\n",
    "                \n",
    "for i in l:\n",
    "    if type(i)==dict:\n",
    "        print(i)\n",
    "        for j in i.items():\n",
    "            print(j)\n",
    "            for k in j:\n",
    "                print(k)\n",
    "                sum2=sum2+k\n",
    "                \n",
    "print(sum)\n",
    "print(sum2)"
   ]
  },
  {
   "cell_type": "code",
   "execution_count": 107,
   "id": "c816c512",
   "metadata": {},
   "outputs": [
    {
     "name": "stdout",
     "output_type": "stream",
     "text": [
      "{'k1': 'sudh', 'k2': 'ineuron', 'k3': 'kumar', 3: 6, 7: 8}\n",
      "('k1', 'sudh')\n",
      "k1\n",
      "sudh\n",
      "('k2', 'ineuron')\n",
      "k2\n",
      "ineuron\n",
      "('k3', 'kumar')\n",
      "k3\n",
      "kumar\n",
      "(3, 6)\n",
      "3\n",
      "6\n",
      "(7, 8)\n",
      "7\n",
      "8\n"
     ]
    }
   ],
   "source": [
    "for i in l:\n",
    "    if type(i)==dict:\n",
    "        print(i)\n",
    "        for j in i.items():\n",
    "            print(j)\n",
    "            for k in j:\n",
    "                print(k)"
   ]
  },
  {
   "cell_type": "code",
   "execution_count": 60,
   "id": "6358e285",
   "metadata": {},
   "outputs": [
    {
     "name": "stdout",
     "output_type": "stream",
     "text": [
      "7\n"
     ]
    }
   ],
   "source": [
    "sum=0\n",
    "for i in l:\n",
    "    if type(i)==int:\n",
    "        sum=sum+i\n",
    "        print (sum)"
   ]
  },
  {
   "cell_type": "code",
   "execution_count": 115,
   "id": "8c0de163",
   "metadata": {},
   "outputs": [
    {
     "name": "stdout",
     "output_type": "stream",
     "text": [
      "1\n",
      "2\n",
      "3\n",
      "4\n",
      "2\n",
      "3\n",
      "4\n",
      "5\n",
      "6\n",
      "3\n",
      "4\n",
      "5\n",
      "6\n",
      "7\n",
      "45\n",
      "4\n",
      "5\n",
      "23\n",
      "3\n",
      "6\n",
      "7\n",
      "8\n"
     ]
    }
   ],
   "source": [
    "l2=[]\n",
    "for i in l:\n",
    "    if type(i)==str or type(i)==list or type(i)==tuple or type(i)==set :\n",
    "        for j in i:\n",
    "            if type(j)==int:\n",
    "                print (j)\n",
    "                l2.append(j)\n",
    "    if type(i)==dict:\n",
    "        for j in i.items():\n",
    "        \n",
    "            for k in j:\n",
    "                if type(k)==int:\n",
    "                    print(k)\n",
    "                    l2.append(k)"
   ]
  },
  {
   "cell_type": "code",
   "execution_count": 116,
   "id": "72f19333",
   "metadata": {},
   "outputs": [
    {
     "data": {
      "text/plain": [
       "[1, 2, 3, 4, 2, 3, 4, 5, 6, 3, 4, 5, 6, 7, 45, 4, 5, 23, 3, 6, 7, 8]"
      ]
     },
     "execution_count": 116,
     "metadata": {},
     "output_type": "execute_result"
    }
   ],
   "source": [
    "l2\n"
   ]
  },
  {
   "cell_type": "code",
   "execution_count": 119,
   "id": "8feb0be5",
   "metadata": {},
   "outputs": [],
   "source": [
    "l3=[]\n",
    "for i in l2:\n",
    "    if i%2==0:\n",
    "        l3.append(i)\n",
    "        "
   ]
  },
  {
   "cell_type": "code",
   "execution_count": 120,
   "id": "fe5532eb",
   "metadata": {},
   "outputs": [
    {
     "data": {
      "text/plain": [
       "[2, 4, 2, 4, 6, 4, 6, 4, 6, 8]"
      ]
     },
     "execution_count": 120,
     "metadata": {},
     "output_type": "execute_result"
    }
   ],
   "source": [
    "l3"
   ]
  },
  {
   "cell_type": "code",
   "execution_count": 125,
   "id": "47f653f5",
   "metadata": {},
   "outputs": [],
   "source": [
    "l = [[1,2,3,4] , (2,3,4,5,6) , (3,4,5,6,7) , set([23,4,5,45,4,4,5,45,45,4,5]) ,7, {'k1' :\"sudh\" , \"k2\" : \"ineuron\",\"k3\":\n",
    "            \"kumar\" , 3:6 , 7:8} , [\"ineuron\" , \"data science \"]]"
   ]
  },
  {
   "cell_type": "code",
   "execution_count": 128,
   "id": "1b1ec34f",
   "metadata": {},
   "outputs": [
    {
     "name": "stdout",
     "output_type": "stream",
     "text": [
      "ineuron\n",
      "['ineuron', 'data science ']\n"
     ]
    }
   ],
   "source": [
    "for i in l:\n",
    "    if type(i)==tuple or type(i)==str or type(i)==list:\n",
    "        for k in i:\n",
    "            if k==\"ineuron\":\n",
    "                print(k)\n",
    "                print(i)\n",
    "                "
   ]
  },
  {
   "cell_type": "code",
   "execution_count": 124,
   "id": "277a743d",
   "metadata": {},
   "outputs": [
    {
     "data": {
      "text/plain": [
       "' '"
      ]
     },
     "execution_count": 124,
     "metadata": {},
     "output_type": "execute_result"
    }
   ],
   "source": [
    "n"
   ]
  },
  {
   "cell_type": "code",
   "execution_count": 133,
   "id": "6255eb32",
   "metadata": {},
   "outputs": [
    {
     "name": "stdout",
     "output_type": "stream",
     "text": [
      "[1, 2, 3, 4] : 1\n",
      "1 : 1\n",
      "2 : 1\n",
      "3 : 1\n",
      "4 : 1\n",
      "(2, 3, 4, 5, 6) : 1\n",
      "2 : 1\n",
      "3 : 1\n",
      "4 : 1\n",
      "5 : 1\n",
      "6 : 1\n",
      "(3, 4, 5, 6, 7) : 1\n",
      "3 : 1\n",
      "4 : 1\n",
      "5 : 1\n",
      "6 : 1\n",
      "7 : 1\n",
      "{45, 4, 5, 23} : 1\n"
     ]
    },
    {
     "ename": "AttributeError",
     "evalue": "'set' object has no attribute 'count'",
     "output_type": "error",
     "traceback": [
      "\u001b[1;31m---------------------------------------------------------------------------\u001b[0m",
      "\u001b[1;31mAttributeError\u001b[0m                            Traceback (most recent call last)",
      "\u001b[1;32m~\\AppData\\Local\\Temp/ipykernel_3032/2536903006.py\u001b[0m in \u001b[0;36m<module>\u001b[1;34m\u001b[0m\n\u001b[0;32m      4\u001b[0m     \u001b[0mprint\u001b[0m\u001b[1;33m(\u001b[0m\u001b[0mi\u001b[0m  \u001b[1;33m,\u001b[0m \u001b[1;34m\":\"\u001b[0m \u001b[1;33m,\u001b[0m \u001b[0ml\u001b[0m\u001b[1;33m.\u001b[0m\u001b[0mcount\u001b[0m\u001b[1;33m(\u001b[0m\u001b[0mi\u001b[0m\u001b[1;33m)\u001b[0m\u001b[1;33m)\u001b[0m\u001b[1;33m\u001b[0m\u001b[1;33m\u001b[0m\u001b[0m\n\u001b[0;32m      5\u001b[0m     \u001b[1;32mfor\u001b[0m \u001b[0mj\u001b[0m \u001b[1;32min\u001b[0m \u001b[0mi\u001b[0m\u001b[1;33m:\u001b[0m\u001b[1;33m\u001b[0m\u001b[1;33m\u001b[0m\u001b[0m\n\u001b[1;32m----> 6\u001b[1;33m         \u001b[0mprint\u001b[0m\u001b[1;33m(\u001b[0m\u001b[0mj\u001b[0m\u001b[1;33m,\u001b[0m \u001b[1;34m\":\"\u001b[0m\u001b[1;33m,\u001b[0m \u001b[0mi\u001b[0m\u001b[1;33m.\u001b[0m\u001b[0mcount\u001b[0m\u001b[1;33m(\u001b[0m\u001b[0mj\u001b[0m\u001b[1;33m)\u001b[0m\u001b[1;33m)\u001b[0m\u001b[1;33m\u001b[0m\u001b[1;33m\u001b[0m\u001b[0m\n\u001b[0m",
      "\u001b[1;31mAttributeError\u001b[0m: 'set' object has no attribute 'count'"
     ]
    }
   ],
   "source": [
    "## q10 :Try to find out a number of occurances of all the data \n",
    "\n",
    "for i in l:\n",
    "    print(i  , \":\" , l.count(i)) \n",
    "    for j in i:\n",
    "        print(j, \":\", i.count(j))"
   ]
  },
  {
   "cell_type": "code",
   "execution_count": 134,
   "id": "587a0e45",
   "metadata": {},
   "outputs": [
    {
     "name": "stdout",
     "output_type": "stream",
     "text": [
      "1 : 1\n",
      "2 : 2\n",
      "3 : 4\n",
      "4 : 4\n",
      "2 : 2\n",
      "3 : 4\n",
      "4 : 4\n",
      "5 : 3\n",
      "6 : 3\n",
      "3 : 4\n",
      "4 : 4\n",
      "5 : 3\n",
      "6 : 3\n",
      "7 : 2\n",
      "45 : 1\n",
      "4 : 4\n",
      "5 : 3\n",
      "23 : 1\n",
      "3 : 4\n",
      "6 : 3\n",
      "7 : 2\n",
      "8 : 1\n"
     ]
    }
   ],
   "source": [
    "for i in l2:\n",
    "    print(i  , \":\" , l2.count(i)) "
   ]
  },
  {
   "cell_type": "code",
   "execution_count": 135,
   "id": "a910be5e",
   "metadata": {},
   "outputs": [
    {
     "name": "stdout",
     "output_type": "stream",
     "text": [
      "dict_keys(['k1', 'k2', 'k3', 3, 7])\n"
     ]
    }
   ],
   "source": [
    "## q11 : Try to find out number of keys in dict element\n",
    "\n",
    "for i in l:\n",
    "    if type(i)==dict:\n",
    "        print(i.keys())"
   ]
  },
  {
   "cell_type": "code",
   "execution_count": 149,
   "id": "bda403c8",
   "metadata": {},
   "outputs": [
    {
     "data": {
      "text/plain": [
       "[[1, 2, 3, 4],\n",
       " (2, 3, 4, 5, 6),\n",
       " (3, 4, 5, 6, 7),\n",
       " {4, 5, 23, 45},\n",
       " 7,\n",
       " {'k1': 'sudh', 'k2': 'ineuron', 'k3': 'kumar', 3: 6, 7: 8},\n",
       " ['ineuron', 'data science ']]"
      ]
     },
     "execution_count": 149,
     "metadata": {},
     "output_type": "execute_result"
    }
   ],
   "source": [
    "l"
   ]
  },
  {
   "cell_type": "code",
   "execution_count": 152,
   "id": "d2d604af",
   "metadata": {},
   "outputs": [],
   "source": [
    "##q12 : Try to filter out all the string data \n",
    "l5=[]\n",
    "for i in l:\n",
    "    if type(i)==str:\n",
    "        l5.append(i)\n",
    "        if type(i)==tuple or type(i)==list:\n",
    "            for j in i:\n",
    "                if type(j)==str:\n",
    "                    l5.append(j)"
   ]
  },
  {
   "cell_type": "code",
   "execution_count": 151,
   "id": "30c3bbbd",
   "metadata": {},
   "outputs": [
    {
     "data": {
      "text/plain": [
       "[]"
      ]
     },
     "execution_count": 151,
     "metadata": {},
     "output_type": "execute_result"
    }
   ],
   "source": [
    "l5"
   ]
  },
  {
   "cell_type": "code",
   "execution_count": 153,
   "id": "875feef0",
   "metadata": {},
   "outputs": [
    {
     "name": "stdout",
     "output_type": "stream",
     "text": [
      "('k1', 'sudh')\n",
      "('k2', 'ineuron')\n",
      "('k3', 'kumar')\n",
      "(3, 6)\n",
      "(7, 8)\n"
     ]
    }
   ],
   "source": [
    "l1=[]\n",
    "for i in l:\n",
    "    if type(i)==str or type(i)==list or type(i)==tuple or type(i)==set :\n",
    "        for j in i:\n",
    "            l1.append(j)\n",
    "    if type(i)==dict:\n",
    "        for j in i.items():\n",
    "            print(j)\n",
    "            for k in j:\n",
    "                l1.append(k)"
   ]
  },
  {
   "cell_type": "code",
   "execution_count": 154,
   "id": "8fb4cac7",
   "metadata": {},
   "outputs": [
    {
     "data": {
      "text/plain": [
       "[1,\n",
       " 2,\n",
       " 3,\n",
       " 4,\n",
       " 2,\n",
       " 3,\n",
       " 4,\n",
       " 5,\n",
       " 6,\n",
       " 3,\n",
       " 4,\n",
       " 5,\n",
       " 6,\n",
       " 7,\n",
       " 45,\n",
       " 4,\n",
       " 5,\n",
       " 23,\n",
       " 'k1',\n",
       " 'sudh',\n",
       " 'k2',\n",
       " 'ineuron',\n",
       " 'k3',\n",
       " 'kumar',\n",
       " 3,\n",
       " 6,\n",
       " 7,\n",
       " 8,\n",
       " 'ineuron',\n",
       " 'data science ']"
      ]
     },
     "execution_count": 154,
     "metadata": {},
     "output_type": "execute_result"
    }
   ],
   "source": [
    "l1"
   ]
  },
  {
   "cell_type": "code",
   "execution_count": 167,
   "id": "71c8e005",
   "metadata": {},
   "outputs": [
    {
     "data": {
      "text/plain": [
       "[[1, 2, 3, 4],\n",
       " (2, 3, 4, 5, 6),\n",
       " (3, 4, 5, 6, 7),\n",
       " {4, 5, 23, 45},\n",
       " 7,\n",
       " {'k1': 'sudh', 'k2': 'ineuron', 'k3': 'kumar', 3: 6, 7: 8},\n",
       " ['ineuron', 'data science ']]"
      ]
     },
     "execution_count": 167,
     "metadata": {},
     "output_type": "execute_result"
    }
   ],
   "source": [
    "## q13 : Try to Find  out alphanum in data\n",
    "\n",
    "l"
   ]
  },
  {
   "cell_type": "code",
   "execution_count": null,
   "id": "f0e7809d",
   "metadata": {},
   "outputs": [],
   "source": []
  }
 ],
 "metadata": {
  "kernelspec": {
   "display_name": "Python 3 (ipykernel)",
   "language": "python",
   "name": "python3"
  },
  "language_info": {
   "codemirror_mode": {
    "name": "ipython",
    "version": 3
   },
   "file_extension": ".py",
   "mimetype": "text/x-python",
   "name": "python",
   "nbconvert_exporter": "python",
   "pygments_lexer": "ipython3",
   "version": "3.9.7"
  }
 },
 "nbformat": 4,
 "nbformat_minor": 5
}
