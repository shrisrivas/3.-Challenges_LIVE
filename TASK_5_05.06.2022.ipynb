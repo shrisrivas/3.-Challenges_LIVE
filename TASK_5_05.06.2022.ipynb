{
 "cells": [
  {
   "cell_type": "raw",
   "id": "9242a469",
   "metadata": {},
   "source": [
    "Todays task :\n",
    "    q1 : Try to print a prime number in between 1 to 1000\n",
    "    q2 : Try to write a function which  is equivalent  to print function in python\n",
    "    q3 : Try to write a function which is a replica of list append , extend and pop function \n",
    "    q4 : Try to write a lambda function which can return a concatination of all the string that we will pass\n",
    "    q5 : Try to write a lambda function which can return list of square of all the data between 1-100 \n",
    "    q6 : Try to write a 10 Different different example of lambda function with a choice of your taks \n",
    "    q7 : Try to wwrite a funtion whihc can perform a read operation from .txt file \n",
    "        \n",
    "        shivan@ineuron.ai\n",
    "        sudhashu@ineuron.ai"
   ]
  },
  {
   "cell_type": "raw",
   "id": "9ad56caf",
   "metadata": {},
   "source": [
    "q1 : Try to print a prime number in between 1 to 1000"
   ]
  },
  {
   "cell_type": "code",
   "execution_count": 27,
   "id": "8c93865d",
   "metadata": {},
   "outputs": [
    {
     "name": "stdout",
     "output_type": "stream",
     "text": [
      "enter the number4\n",
      "number is not prime!\n"
     ]
    }
   ],
   "source": [
    "# prime numbers are divisible by 1 and itself and all\n",
    "i=int(input(\"enter the number\"))\n",
    "\n",
    "if i== ('3') or ('5') or ('7'):\n",
    "    print(\"number is not prime!\")\n",
    "elif i%i==0 and i%1==0 and (i%2==0 or i%3==0 or i%4==0 or i%5==0 or i%6==0 or i%7==0 or i%8==0 or i%9==0):\n",
    "    print(\"number is prime\",i )\n",
    "else:\n",
    "    print(\"number is not prime\")\n",
    "    \n",
    "        \n",
    "    "
   ]
  },
  {
   "cell_type": "code",
   "execution_count": 22,
   "id": "e556d1f7",
   "metadata": {},
   "outputs": [
    {
     "data": {
      "text/plain": [
       "12"
      ]
     },
     "execution_count": 22,
     "metadata": {},
     "output_type": "execute_result"
    }
   ],
   "source": [
    "12"
   ]
  },
  {
   "cell_type": "raw",
   "id": "8afd6958",
   "metadata": {},
   "source": [
    "q2 : Try to write a function which  is equivalent  to print function in python"
   ]
  },
  {
   "cell_type": "code",
   "execution_count": null,
   "id": "62b039bb",
   "metadata": {},
   "outputs": [],
   "source": [
    "return"
   ]
  },
  {
   "cell_type": "code",
   "execution_count": 28,
   "id": "241a51c8",
   "metadata": {},
   "outputs": [],
   "source": [
    "def sum(a,b):\n",
    "    print(a+b)"
   ]
  },
  {
   "cell_type": "code",
   "execution_count": 30,
   "id": "33f4ab0c",
   "metadata": {},
   "outputs": [
    {
     "name": "stdout",
     "output_type": "stream",
     "text": [
      "13\n"
     ]
    }
   ],
   "source": [
    "a=sum(6,7)"
   ]
  },
  {
   "cell_type": "code",
   "execution_count": 31,
   "id": "4b865016",
   "metadata": {
    "scrolled": true
   },
   "outputs": [
    {
     "ename": "TypeError",
     "evalue": "unsupported operand type(s) for +: 'int' and 'NoneType'",
     "output_type": "error",
     "traceback": [
      "\u001b[1;31m---------------------------------------------------------------------------\u001b[0m",
      "\u001b[1;31mTypeError\u001b[0m                                 Traceback (most recent call last)",
      "\u001b[1;32m~\\AppData\\Local\\Temp/ipykernel_15508/653975269.py\u001b[0m in \u001b[0;36m<module>\u001b[1;34m\u001b[0m\n\u001b[1;32m----> 1\u001b[1;33m \u001b[1;36m7\u001b[0m\u001b[1;33m+\u001b[0m\u001b[0ma\u001b[0m\u001b[1;33m\u001b[0m\u001b[1;33m\u001b[0m\u001b[0m\n\u001b[0m",
      "\u001b[1;31mTypeError\u001b[0m: unsupported operand type(s) for +: 'int' and 'NoneType'"
     ]
    }
   ],
   "source": [
    "7+a"
   ]
  },
  {
   "cell_type": "code",
   "execution_count": 32,
   "id": "cbff811d",
   "metadata": {},
   "outputs": [],
   "source": [
    "def sum(a,b):\n",
    "    return (a+b)\n"
   ]
  },
  {
   "cell_type": "code",
   "execution_count": 34,
   "id": "04c2f7f2",
   "metadata": {},
   "outputs": [],
   "source": [
    "x=sum(4,7)"
   ]
  },
  {
   "cell_type": "code",
   "execution_count": 35,
   "id": "fa3b671d",
   "metadata": {},
   "outputs": [
    {
     "data": {
      "text/plain": [
       "11"
      ]
     },
     "execution_count": 35,
     "metadata": {},
     "output_type": "execute_result"
    }
   ],
   "source": [
    "x"
   ]
  },
  {
   "cell_type": "code",
   "execution_count": 36,
   "id": "cf921446",
   "metadata": {},
   "outputs": [
    {
     "data": {
      "text/plain": [
       "14"
      ]
     },
     "execution_count": 36,
     "metadata": {},
     "output_type": "execute_result"
    }
   ],
   "source": [
    "x+3"
   ]
  },
  {
   "cell_type": "raw",
   "id": "aeacf1a0",
   "metadata": {},
   "source": [
    " q3 : Try to write a function which is a replica of list append , extend and pop function "
   ]
  },
  {
   "cell_type": "code",
   "execution_count": 44,
   "id": "25a3e677",
   "metadata": {},
   "outputs": [],
   "source": [
    "\n",
    "def append():\n",
    "    l=[]\n",
    "    for i in range(9):\n",
    "        l=[i]\n",
    "    "
   ]
  },
  {
   "cell_type": "code",
   "execution_count": 45,
   "id": "a259a30a",
   "metadata": {},
   "outputs": [
    {
     "ename": "TypeError",
     "evalue": "append() takes 0 positional arguments but 1 was given",
     "output_type": "error",
     "traceback": [
      "\u001b[1;31m---------------------------------------------------------------------------\u001b[0m",
      "\u001b[1;31mTypeError\u001b[0m                                 Traceback (most recent call last)",
      "\u001b[1;32m~\\AppData\\Local\\Temp/ipykernel_15508/297415219.py\u001b[0m in \u001b[0;36m<module>\u001b[1;34m\u001b[0m\n\u001b[1;32m----> 1\u001b[1;33m \u001b[0mappend\u001b[0m\u001b[1;33m(\u001b[0m\u001b[1;36m4\u001b[0m\u001b[1;33m)\u001b[0m\u001b[1;33m\u001b[0m\u001b[1;33m\u001b[0m\u001b[0m\n\u001b[0m",
      "\u001b[1;31mTypeError\u001b[0m: append() takes 0 positional arguments but 1 was given"
     ]
    }
   ],
   "source": [
    "append(4)"
   ]
  },
  {
   "cell_type": "code",
   "execution_count": null,
   "id": "ee68f085",
   "metadata": {},
   "outputs": [],
   "source": [
    "q4 : Try to write a lambda function which can return a concatination of all the string that we will pass"
   ]
  },
  {
   "cell_type": "code",
   "execution_count": 53,
   "id": "ac96d258",
   "metadata": {},
   "outputs": [],
   "source": [
    "a=lambda x,y: str(x)+str(y)"
   ]
  },
  {
   "cell_type": "code",
   "execution_count": 54,
   "id": "872c060e",
   "metadata": {},
   "outputs": [
    {
     "data": {
      "text/plain": [
       "<function __main__.<lambda>(x, y)>"
      ]
     },
     "execution_count": 54,
     "metadata": {},
     "output_type": "execute_result"
    }
   ],
   "source": [
    "a\n"
   ]
  },
  {
   "cell_type": "code",
   "execution_count": 55,
   "id": "e43ec4b6",
   "metadata": {},
   "outputs": [
    {
     "data": {
      "text/plain": [
       "'34'"
      ]
     },
     "execution_count": 55,
     "metadata": {},
     "output_type": "execute_result"
    }
   ],
   "source": [
    "a(3,4)"
   ]
  },
  {
   "cell_type": "code",
   "execution_count": 56,
   "id": "e3789596",
   "metadata": {},
   "outputs": [
    {
     "data": {
      "text/plain": [
       "'kjhjk0'"
      ]
     },
     "execution_count": 56,
     "metadata": {},
     "output_type": "execute_result"
    }
   ],
   "source": [
    "a(\"kjhjk\",0)"
   ]
  },
  {
   "cell_type": "code",
   "execution_count": null,
   "id": "1b97961e",
   "metadata": {},
   "outputs": [],
   "source": [
    "q5 : Try to write a lambda function which can return list of square of all the data between 1-100 "
   ]
  },
  {
   "cell_type": "code",
   "execution_count": 61,
   "id": "16fdb6cd",
   "metadata": {},
   "outputs": [],
   "source": [
    "x=lambda x:[i**2 for i in range(101)]"
   ]
  },
  {
   "cell_type": "code",
   "execution_count": 65,
   "id": "490f4063",
   "metadata": {},
   "outputs": [
    {
     "data": {
      "text/plain": [
       "[0,\n",
       " 1,\n",
       " 4,\n",
       " 9,\n",
       " 16,\n",
       " 25,\n",
       " 36,\n",
       " 49,\n",
       " 64,\n",
       " 81,\n",
       " 100,\n",
       " 121,\n",
       " 144,\n",
       " 169,\n",
       " 196,\n",
       " 225,\n",
       " 256,\n",
       " 289,\n",
       " 324,\n",
       " 361,\n",
       " 400,\n",
       " 441,\n",
       " 484,\n",
       " 529,\n",
       " 576,\n",
       " 625,\n",
       " 676,\n",
       " 729,\n",
       " 784,\n",
       " 841,\n",
       " 900,\n",
       " 961,\n",
       " 1024,\n",
       " 1089,\n",
       " 1156,\n",
       " 1225,\n",
       " 1296,\n",
       " 1369,\n",
       " 1444,\n",
       " 1521,\n",
       " 1600,\n",
       " 1681,\n",
       " 1764,\n",
       " 1849,\n",
       " 1936,\n",
       " 2025,\n",
       " 2116,\n",
       " 2209,\n",
       " 2304,\n",
       " 2401,\n",
       " 2500,\n",
       " 2601,\n",
       " 2704,\n",
       " 2809,\n",
       " 2916,\n",
       " 3025,\n",
       " 3136,\n",
       " 3249,\n",
       " 3364,\n",
       " 3481,\n",
       " 3600,\n",
       " 3721,\n",
       " 3844,\n",
       " 3969,\n",
       " 4096,\n",
       " 4225,\n",
       " 4356,\n",
       " 4489,\n",
       " 4624,\n",
       " 4761,\n",
       " 4900,\n",
       " 5041,\n",
       " 5184,\n",
       " 5329,\n",
       " 5476,\n",
       " 5625,\n",
       " 5776,\n",
       " 5929,\n",
       " 6084,\n",
       " 6241,\n",
       " 6400,\n",
       " 6561,\n",
       " 6724,\n",
       " 6889,\n",
       " 7056,\n",
       " 7225,\n",
       " 7396,\n",
       " 7569,\n",
       " 7744,\n",
       " 7921,\n",
       " 8100,\n",
       " 8281,\n",
       " 8464,\n",
       " 8649,\n",
       " 8836,\n",
       " 9025,\n",
       " 9216,\n",
       " 9409,\n",
       " 9604,\n",
       " 9801,\n",
       " 10000]"
      ]
     },
     "execution_count": 65,
     "metadata": {},
     "output_type": "execute_result"
    }
   ],
   "source": [
    "x(100)\n",
    "\n"
   ]
  },
  {
   "cell_type": "raw",
   "id": "d16000a8",
   "metadata": {},
   "source": [
    "# q6 : Try to write a 10 Different different example of lambda function with a choice of your taks "
   ]
  },
  {
   "cell_type": "code",
   "execution_count": 67,
   "id": "b9cbda11",
   "metadata": {},
   "outputs": [],
   "source": [
    "w=lambda x:(x**2)+2*x"
   ]
  },
  {
   "cell_type": "code",
   "execution_count": 68,
   "id": "d4c501cc",
   "metadata": {},
   "outputs": [
    {
     "data": {
      "text/plain": [
       "48"
      ]
     },
     "execution_count": 68,
     "metadata": {},
     "output_type": "execute_result"
    }
   ],
   "source": [
    "w(6)"
   ]
  },
  {
   "cell_type": "code",
   "execution_count": 69,
   "id": "d2acad19",
   "metadata": {},
   "outputs": [],
   "source": [
    "g=lambda x,u:x/u"
   ]
  },
  {
   "cell_type": "code",
   "execution_count": 71,
   "id": "3f42dd30",
   "metadata": {},
   "outputs": [
    {
     "data": {
      "text/plain": [
       "2.0"
      ]
     },
     "execution_count": 71,
     "metadata": {},
     "output_type": "execute_result"
    }
   ],
   "source": [
    "g(8,4)"
   ]
  },
  {
   "cell_type": "code",
   "execution_count": 72,
   "id": "18a2fb1f",
   "metadata": {},
   "outputs": [],
   "source": [
    "h=lambda x:\"my name is shristi\"\n"
   ]
  },
  {
   "cell_type": "code",
   "execution_count": 73,
   "id": "002bbbc0",
   "metadata": {},
   "outputs": [
    {
     "data": {
      "text/plain": [
       "<function __main__.<lambda>(x)>"
      ]
     },
     "execution_count": 73,
     "metadata": {},
     "output_type": "execute_result"
    }
   ],
   "source": [
    "h\n"
   ]
  },
  {
   "cell_type": "code",
   "execution_count": 75,
   "id": "de385f1d",
   "metadata": {},
   "outputs": [
    {
     "data": {
      "text/plain": [
       "'my name is shristi'"
      ]
     },
     "execution_count": 75,
     "metadata": {},
     "output_type": "execute_result"
    }
   ],
   "source": [
    "h(3)"
   ]
  },
  {
   "cell_type": "code",
   "execution_count": 77,
   "id": "79cbd338",
   "metadata": {},
   "outputs": [],
   "source": [
    "h=lambda j:\"hello\""
   ]
  },
  {
   "cell_type": "code",
   "execution_count": 78,
   "id": "e7adad91",
   "metadata": {},
   "outputs": [
    {
     "data": {
      "text/plain": [
       "'hello'"
      ]
     },
     "execution_count": 78,
     "metadata": {},
     "output_type": "execute_result"
    }
   ],
   "source": [
    "h(i)"
   ]
  },
  {
   "cell_type": "code",
   "execution_count": 79,
   "id": "f59769e5",
   "metadata": {},
   "outputs": [
    {
     "ename": "SyntaxError",
     "evalue": "invalid syntax (Temp/ipykernel_15508/3934166317.py, line 1)",
     "output_type": "error",
     "traceback": [
      "\u001b[1;36m  File \u001b[1;32m\"C:\\Users\\Shristi\\AppData\\Local\\Temp/ipykernel_15508/3934166317.py\"\u001b[1;36m, line \u001b[1;32m1\u001b[0m\n\u001b[1;33m    o=lambda str(x):\"yes its string\"\u001b[0m\n\u001b[1;37m                ^\u001b[0m\n\u001b[1;31mSyntaxError\u001b[0m\u001b[1;31m:\u001b[0m invalid syntax\n"
     ]
    }
   ],
   "source": [
    "o=lambda str(x):\"yes its string\""
   ]
  },
  {
   "cell_type": "raw",
   "id": "c574ea57",
   "metadata": {},
   "source": [
    " q7 : Try to wwrite a funtion which can perform a read operation from .txt file "
   ]
  },
  {
   "cell_type": "code",
   "execution_count": 81,
   "id": "27f4ec98",
   "metadata": {},
   "outputs": [
    {
     "data": {
      "text/plain": [
       "'C:\\\\Users\\\\Shristi\\\\Desktop\\\\Data Science\\\\live_class\\\\python_developer'"
      ]
     },
     "execution_count": 81,
     "metadata": {},
     "output_type": "execute_result"
    }
   ],
   "source": [
    "pwd()"
   ]
  },
  {
   "cell_type": "code",
   "execution_count": 82,
   "id": "3f4b4e12",
   "metadata": {},
   "outputs": [],
   "source": [
    "f=open(\"hi.txt\",\"w+\")"
   ]
  },
  {
   "cell_type": "code",
   "execution_count": 83,
   "id": "4e51d34a",
   "metadata": {},
   "outputs": [
    {
     "data": {
      "text/plain": [
       "15"
      ]
     },
     "execution_count": 83,
     "metadata": {},
     "output_type": "execute_result"
    }
   ],
   "source": [
    "f.write(\"hi i am shristi\")"
   ]
  },
  {
   "cell_type": "code",
   "execution_count": 84,
   "id": "8984b0d6",
   "metadata": {},
   "outputs": [
    {
     "data": {
      "text/plain": [
       "''"
      ]
     },
     "execution_count": 84,
     "metadata": {},
     "output_type": "execute_result"
    }
   ],
   "source": [
    "f.read()\n"
   ]
  },
  {
   "cell_type": "code",
   "execution_count": 85,
   "id": "40c83e40",
   "metadata": {},
   "outputs": [
    {
     "data": {
      "text/plain": [
       "0"
      ]
     },
     "execution_count": 85,
     "metadata": {},
     "output_type": "execute_result"
    }
   ],
   "source": [
    "f.seek(0)"
   ]
  },
  {
   "cell_type": "code",
   "execution_count": 86,
   "id": "cfa51bdc",
   "metadata": {},
   "outputs": [
    {
     "data": {
      "text/plain": [
       "'hi i am shristi'"
      ]
     },
     "execution_count": 86,
     "metadata": {},
     "output_type": "execute_result"
    }
   ],
   "source": [
    "f.read()"
   ]
  },
  {
   "cell_type": "code",
   "execution_count": null,
   "id": "72623418",
   "metadata": {},
   "outputs": [],
   "source": []
  }
 ],
 "metadata": {
  "kernelspec": {
   "display_name": "Python 3 (ipykernel)",
   "language": "python",
   "name": "python3"
  },
  "language_info": {
   "codemirror_mode": {
    "name": "ipython",
    "version": 3
   },
   "file_extension": ".py",
   "mimetype": "text/x-python",
   "name": "python",
   "nbconvert_exporter": "python",
   "pygments_lexer": "ipython3",
   "version": "3.9.7"
  }
 },
 "nbformat": 4,
 "nbformat_minor": 5
}
